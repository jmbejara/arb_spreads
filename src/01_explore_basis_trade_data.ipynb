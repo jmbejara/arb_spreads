{
 "cells": [
  {
   "cell_type": "markdown",
   "id": "e9cbd5ea-c85e-4e31-a4b2-cfdce37d80e4",
   "metadata": {},
   "source": [
    "# Explore Basis Trade Data"
   ]
  },
  {
   "cell_type": "code",
   "execution_count": null,
   "id": "b8f292e9-73eb-4f67-b087-7772f38b7fb1",
   "metadata": {},
   "outputs": [],
   "source": [
    "import pandas as pd\n",
    "import polars as pl\n",
    "\n",
    "from matplotlib import pyplot as plt\n",
    "import seaborn as sns\n",
    "sns.set()\n",
    "\n",
    "from settings import config\n",
    "import load_bases_data\n",
    "\n",
    "DATA_DIR = config(\"DATA_DIR\")\n",
    "MANUAL_DATA_DIR = config(\"MANUAL_DATA_DIR\")"
   ]
  },
  {
   "cell_type": "markdown",
   "id": "767bbd9d-7f2f-416c-ac58-d5510a7893b2",
   "metadata": {},
   "source": [
    "## Arbitrage Spreads"
   ]
  },
  {
   "cell_type": "code",
   "execution_count": null,
   "id": "9833b416-fee2-4e26-ab90-1f1968bb8286",
   "metadata": {},
   "outputs": [],
   "source": [
    "df = load_bases_data.load_combined_spreads_wide(data_dir=MANUAL_DATA_DIR)\n",
    "# df = df.ffill(limit=5).dropna()\n",
    "# df.info()"
   ]
  },
  {
   "cell_type": "code",
   "execution_count": null,
   "id": "b3c7769e-799f-4c46-b954-7c0924bc109d",
   "metadata": {},
   "outputs": [],
   "source": [
    "df.info()"
   ]
  },
  {
   "cell_type": "code",
   "execution_count": null,
   "id": "c61c50ad-6fcb-41e1-88d5-157a738e49dc",
   "metadata": {},
   "outputs": [],
   "source": [
    "df.tail()"
   ]
  },
  {
   "cell_type": "code",
   "execution_count": null,
   "id": "b2321240-2ee3-4fd9-a9e5-39fd995dbe9c",
   "metadata": {},
   "outputs": [],
   "source": [
    "df.reindex(sorted(df.columns), axis=1).filter(regex=(\"Treasury_SF_*\")).info()"
   ]
  },
  {
   "cell_type": "code",
   "execution_count": null,
   "id": "5a6f5a66-8bcc-4de2-bf6c-279ba27bbb64",
   "metadata": {},
   "outputs": [],
   "source": [
    "df.reindex(sorted(df.columns), axis=1).filter(regex=(\"Treasury_SF_*\")).plot()"
   ]
  },
  {
   "cell_type": "code",
   "execution_count": null,
   "id": "4ef91a83-54b1-4d93-92d8-65d5461be4cf",
   "metadata": {},
   "outputs": [],
   "source": [
    "(\n",
    "    df\n",
    "    .loc[\"2023\":,:]\n",
    "    .reindex(sorted(df.columns), axis=1)\n",
    "    .filter(regex=(\"Treasury_SF_*\"))\n",
    "    .plot()\n",
    ")\n",
    "plt.ylim([-300,200])"
   ]
  },
  {
   "cell_type": "code",
   "execution_count": null,
   "id": "aaf68b6b-614a-430c-8f80-b487697dec28",
   "metadata": {},
   "outputs": [],
   "source": [
    "(\n",
    "    df\n",
    "    .loc[\"2024-07\":,:]\n",
    "    .reindex(sorted(df.columns), axis=1)\n",
    "    .filter(regex=(\"Treasury_SF_*\"))\n",
    "    .plot()\n",
    ")\n",
    "plt.ylim([-300,200])"
   ]
  },
  {
   "cell_type": "code",
   "execution_count": null,
   "id": "1a6ae732-0a59-429c-afe8-f7363a69a9b1",
   "metadata": {},
   "outputs": [],
   "source": [
    "df.reindex(sorted(df.columns), axis=1).filter(regex=(\"Treasury_SF_*\")).plot()\n",
    "plt.ylim([-300,200])"
   ]
  },
  {
   "cell_type": "code",
   "execution_count": null,
   "id": "1beeb4d8-d4bd-4406-9047-ee512bb6927c",
   "metadata": {},
   "outputs": [],
   "source": [
    "WINDOW = 30\n",
    "ax= df.reindex(sorted(df.columns), axis=1).filter(regex=(\"TIPS_*\")).rolling(WINDOW).mean().plot()\n",
    "# plt.ylim([-100,100])\n",
    "box = ax.get_position()\n",
    "ax.set_position([box.x0, box.y0, box.width * 0.8, box.height])\n",
    "\n",
    "# Put a legend to the right of the current axis\n",
    "ax.legend(loc='center left', bbox_to_anchor=(1, 0.5))\n",
    "\n",
    "plt.ylabel(f\"Spread (bps), {WINDOW}-day Rolling Mean\")\n",
    "plt.title(\"TIPS-Treasury Arbitrage Spread\");"
   ]
  },
  {
   "cell_type": "code",
   "execution_count": null,
   "id": "555998b0-29d9-49e6-9436-cdb67a5c8d2d",
   "metadata": {},
   "outputs": [],
   "source": [
    "WINDOW = 30\n",
    "ax= df.reindex(sorted(df.columns), axis=1).filter(regex=(\"Treasury_SF_*\")).rolling(WINDOW).mean().plot()\n",
    "# plt.ylim([-100,100])\n",
    "box = ax.get_position()\n",
    "ax.set_position([box.x0, box.y0, box.width * 0.8, box.height])\n",
    "\n",
    "# Put a legend to the right of the current axis\n",
    "ax.legend(loc='center left', bbox_to_anchor=(1, 0.5))\n",
    "\n",
    "plt.ylabel(f\"Spread (bps), {WINDOW}-day Rolling Mean\")\n",
    "plt.title(\"Treasury Cash Futures Arbitrage Spread\\nFutures-implied risk-free rate minus OIS rate\");"
   ]
  },
  {
   "cell_type": "code",
   "execution_count": null,
   "id": "278ea9d0-b4eb-4d7f-a40e-f18b037d3289",
   "metadata": {},
   "outputs": [],
   "source": [
    "WINDOW = 30\n",
    "ax= df.reindex(sorted(df.columns), axis=1).filter(regex=(\"Treasury_Swap_*\")).rolling(WINDOW).mean().plot()\n",
    "# plt.ylim([-100,100])\n",
    "box = ax.get_position()\n",
    "ax.set_position([box.x0, box.y0, box.width * 0.8, box.height])\n",
    "\n",
    "# Put a legend to the right of the current axis\n",
    "ax.legend(loc='center left', bbox_to_anchor=(1, 0.5))\n",
    "\n",
    "plt.ylabel(f\"Spread (bps), {WINDOW}-day Rolling Mean\")\n",
    "plt.title(\"Treasury Swap Arbitrage Spread\");"
   ]
  },
  {
   "cell_type": "code",
   "execution_count": null,
   "id": "d4c13322-ab79-44f8-abc2-63becac4816d",
   "metadata": {},
   "outputs": [],
   "source": [
    "WINDOW = 30\n",
    "ax= df.reindex(sorted(df.columns), axis=1).filter(regex=(\"CIP_*\")).rolling(WINDOW).mean().plot()\n",
    "# plt.ylim([-100,100])\n",
    "box = ax.get_position()\n",
    "ax.set_position([box.x0, box.y0, box.width * 0.8, box.height])\n",
    "\n",
    "# Put a legend to the right of the current axis\n",
    "ax.legend(loc='center left', bbox_to_anchor=(1, 0.5))\n",
    "\n",
    "plt.ylabel(f\"Spread (bps), {WINDOW}-day Rolling Mean\")\n",
    "plt.title(\"CIP Arbitrage Spread\");"
   ]
  },
  {
   "cell_type": "code",
   "execution_count": null,
   "id": "a8b89173-4ce9-49b8-a6ab-f2df44fc7a2f",
   "metadata": {},
   "outputs": [],
   "source": [
    "df"
   ]
  },
  {
   "cell_type": "code",
   "execution_count": null,
   "id": "fdb6da25-f09d-46b9-89cf-899352b41db1",
   "metadata": {},
   "outputs": [],
   "source": [
    "# ax= (\n",
    "#     df\n",
    "#     .reindex(sorted(df.columns), axis=1)\n",
    "#     .filter(regex=(\"CIP_*\"))\n",
    "#     .loc[\"2024-07\":,:]\n",
    "#     .dropna()\n",
    "#     .plot()\n",
    "# )\n",
    "\n",
    "# plt.ylim([-100,100])\n",
    "# box = ax.get_position()\n",
    "# ax.set_position([box.x0, box.y0, box.width * 0.8, box.height])\n",
    "\n",
    "# # Put a legend to the right of the current axis\n",
    "# ax.legend(loc='center left', bbox_to_anchor=(1, 0.5))\n",
    "\n",
    "# plt.ylabel(f\"Spread (bps)\")\n",
    "# plt.title(\"CIP Arbitrage Spread\");"
   ]
  },
  {
   "cell_type": "code",
   "execution_count": null,
   "id": "6f801455",
   "metadata": {},
   "outputs": [],
   "source": []
  }
 ],
 "metadata": {
  "language_info": {
   "name": "python"
  }
 },
 "nbformat": 4,
 "nbformat_minor": 5
}
