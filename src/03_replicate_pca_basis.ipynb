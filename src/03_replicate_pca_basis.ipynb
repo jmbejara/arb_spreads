{
 "cells": [
  {
   "cell_type": "markdown",
   "metadata": {},
   "source": [
    "# Replicate stylized facts from \"Segmented Arbitrage\"\n",
    "\n",
    " - Start by replicating the correlation matrix heatmap\n",
    " - Extract principal components from the panel of basis trade returns and replicate their scree plot. \n",
    " \n",
    "Then, continue with a few of our own exporations. \n",
    " - Extract the factor scores.\n",
    " - Then use the factor scores and compare them hedge fund returns"
   ]
  },
  {
   "cell_type": "code",
   "execution_count": null,
   "metadata": {},
   "outputs": [],
   "source": [
    "import numpy as np\n",
    "import pandas as pd\n",
    "from sklearn.decomposition import PCA\n",
    "\n",
    "from matplotlib import pyplot as plt\n",
    "import seaborn as sns\n",
    "sns.set()\n",
    "\n",
    "from settings import config\n",
    "import load_bases_data\n",
    "\n",
    "MANUAL_DATA_DIR = config(\"MANUAL_DATA_DIR\")\n",
    "OUTPUT_DIR = config(\"OUTPUT_DIR\")"
   ]
  },
  {
   "cell_type": "code",
   "execution_count": null,
   "metadata": {},
   "outputs": [],
   "source": [
    "df = load_bases_data.load_combined_spreads_wide(data_dir=MANUAL_DATA_DIR)\n",
    "df = df.ffill(limit=5).dropna()\n",
    "# df.info()"
   ]
  },
  {
   "cell_type": "markdown",
   "metadata": {},
   "source": [
    "## Arbitrage Spreads"
   ]
  },
  {
   "cell_type": "code",
   "execution_count": null,
   "metadata": {},
   "outputs": [],
   "source": [
    "bar_df = pd.Series(dtype=float)\n",
    "bar_df['CDS-Bond'] = -df[[\"CDS_Bond_HY\", \"CDS_Bond_IG\"]].mean().mean()\n",
    "bar_df['Equity-SF'] = df[['Eq_SF_Dow', 'Eq_SF_NDAQ', 'Eq_SF_SPX']].mean().mean()\n",
    "bar_df['Box'] = df[['Box_06m', 'Box_12m', 'Box_18m']].mean().mean()\n",
    "bar_df['Tips-Treas'] = df[[\n",
    "    \"TIPS_Treasury_10Y\", \"TIPS_Treasury_02Y\", \"TIPS_Treasury_20Y\", \"TIPS_Treasury_05Y\",]\n",
    "    ].mean().mean()\n",
    "bar_df['CIP'] = df[[\n",
    "    'CIP_AUD', 'CIP_CAD', 'CIP_EUR', 'CIP_GBP', 'CIP_JPY', 'CIP_NZD', 'CIP_SEK', ]\n",
    "    ].mean().mean()\n",
    "bar_df['Treas-Swap'] = -df[\n",
    "    ['Treasury_Swap_01Y', 'Treasury_Swap_02Y', 'Treasury_Swap_03Y', \n",
    "     'Treasury_Swap_05Y', 'Treasury_Swap_10Y', 'Treasury_Swap_20Y', \n",
    "     'Treasury_Swap_30Y',\n",
    "     ]].mean().mean()\n",
    "bar_df['Treas-SF'] = df[[\n",
    "    'Treasury_SF_02Y', 'Treasury_SF_05Y', 'Treasury_SF_10Y', 'Treasury_SF_30Y', \n",
    "     ]].mean().mean()\n",
    "bar_df.index.name = 'Strategy'\n",
    "bar_df.name = 'Average Arbitrage Spread (bps)'"
   ]
  },
  {
   "cell_type": "code",
   "execution_count": null,
   "metadata": {},
   "outputs": [],
   "source": [
    "plt.figure(figsize=(8,8))\n",
    "ax = sns.barplot(data=bar_df.reset_index(), x='Strategy', y='Average Arbitrage Spread (bps)')\n",
    "ax.bar_label(ax.containers[0])\n",
    "plt.tight_layout()\n",
    "\n",
    "path = OUTPUT_DIR / 'arbitrage_spreads_ave.png'\n",
    "plt.savefig(path, dpi=300)"
   ]
  },
  {
   "cell_type": "markdown",
   "metadata": {},
   "source": [
    "## Correlation Matrix Heatmap"
   ]
  },
  {
   "cell_type": "code",
   "execution_count": null,
   "metadata": {},
   "outputs": [],
   "source": [
    "plt.figure(figsize=[8,7])\n",
    "sns.heatmap(df.corr(), vmin=-1, vmax=1, cmap='vlag', xticklabels=True, yticklabels=True, alpha=.8)\n",
    "plt.title('Correlation of Arbitrage Spreads')\n",
    "plt.tight_layout()\n",
    "\n",
    "path = OUTPUT_DIR / 'arbitrage_spreads_corr.png'\n",
    "plt.savefig(path, dpi=300)"
   ]
  },
  {
   "cell_type": "markdown",
   "metadata": {},
   "source": [
    "## Scree plots"
   ]
  },
  {
   "cell_type": "code",
   "execution_count": null,
   "metadata": {},
   "outputs": [],
   "source": [
    "balanced_df = df.dropna()\n",
    "shape = balanced_df.shape\n",
    "print(shape)\n",
    "print(f'Starting date in balanced panel: {balanced_df.index[0]}')\n",
    "print(f'Ending date in balanced panel: {balanced_df.index[-1]}')"
   ]
  },
  {
   "cell_type": "code",
   "execution_count": null,
   "metadata": {},
   "outputs": [],
   "source": [
    "def calc_cumulative_explained_variance(balanced_df, multiply_100=True, include_zero=True):\n",
    "    num_vars = balanced_df.shape[1]\n",
    "    pca = PCA(n_components=num_vars)\n",
    "    pca.fit(balanced_df)\n",
    "    if multiply_100:\n",
    "        scale = 100\n",
    "    explained_variance = np.cumsum(pca.explained_variance_ratio_) * 100\n",
    "    if include_zero:\n",
    "        explained_variance = [np.nan, *explained_variance]\n",
    "    return explained_variance"
   ]
  },
  {
   "cell_type": "code",
   "execution_count": null,
   "metadata": {},
   "outputs": [],
   "source": [
    "plt.figure(figsize=(6,6))\n",
    "cev = calc_cumulative_explained_variance(balanced_df)\n",
    "plt.plot(cev, marker='s', label='No Smoothing')\n",
    "cev5 = calc_cumulative_explained_variance(balanced_df.rolling(5).mean().dropna())\n",
    "plt.plot(cev5, marker='o', label='Five-Day Moving Average')\n",
    "cev30 = calc_cumulative_explained_variance(balanced_df.rolling(30).mean().dropna())\n",
    "plt.plot(cev30, marker='^', label='One-Month Moving Average')\n",
    "plt.axhline(y=90, color='r', alpha=.5)\n",
    "plt.ylim((30,101))\n",
    "plt.title('The Factor Structure of Arbitrage Spreads')\n",
    "plt.xlabel('Number of Principal Components')\n",
    "plt.ylabel('Cumulative Percent of Variance Explained')\n",
    "plt.legend()\n",
    "plt.tight_layout()\n",
    "\n",
    "path = OUTPUT_DIR / 'arbitrage_spreads_pca_cumvariance.png'\n",
    "plt.savefig(path, dpi=300)"
   ]
  },
  {
   "cell_type": "markdown",
   "metadata": {},
   "source": [
    "From the plot above, we can see that a lot of the uncorrelated variation is coming from the arbitrage spreads that are still missing from our replication versus the original authors' analysis. That is, we are missing the following spreads:\n",
    "\n",
    " - Treasury 20 Y\n",
    " - TIPS-Treasury Basis\n",
    " - CDS-Bond HY\n",
    " - CDS-Bond IG\n",
    " - CHF CIP\n",
    "\n",
    " The original authors make the point that they need 10 principal components to explain approximately 90\\% of the data. With the spreads that we have now, we need 5. We are missing 5 spreads, so these remaining spreads must be very dissimilar from the rest. The period of time that we cover is slightly shorter, but only slightly. So, this may have a slight effect as well."
   ]
  }
 ],
 "metadata": {
  "language_info": {
   "name": "python"
  }
 },
 "nbformat": 4,
 "nbformat_minor": 2
}
